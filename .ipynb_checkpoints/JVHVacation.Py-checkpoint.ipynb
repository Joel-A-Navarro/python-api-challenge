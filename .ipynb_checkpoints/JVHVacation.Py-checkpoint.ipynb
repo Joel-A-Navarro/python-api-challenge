{
 "cells": [
  {
   "cell_type": "code",
   "execution_count": 2,
   "id": "0bc7482f",
   "metadata": {},
   "outputs": [],
   "source": [
    "### Vacation.Py\n",
    "\n",
    "# setup\n",
    "import matplotlib.pyplot as plt\n",
    "import pandas as pd\n",
    "import numpy as np\n",
    "import requests\n",
    "import gmaps\n",
    "import os"
   ]
  },
  {
   "cell_type": "code",
   "execution_count": 3,
   "id": "5bd08068",
   "metadata": {},
   "outputs": [],
   "source": [
    "# api keys\n",
    "from api_keys import g_key"
   ]
  },
  {
   "cell_type": "code",
   "execution_count": 4,
   "id": "25195ae7",
   "metadata": {},
   "outputs": [
    {
     "data": {
      "text/html": [
       "<div>\n",
       "<style scoped>\n",
       "    .dataframe tbody tr th:only-of-type {\n",
       "        vertical-align: middle;\n",
       "    }\n",
       "\n",
       "    .dataframe tbody tr th {\n",
       "        vertical-align: top;\n",
       "    }\n",
       "\n",
       "    .dataframe thead th {\n",
       "        text-align: right;\n",
       "    }\n",
       "</style>\n",
       "<table border=\"1\" class=\"dataframe\">\n",
       "  <thead>\n",
       "    <tr style=\"text-align: right;\">\n",
       "      <th></th>\n",
       "      <th>City</th>\n",
       "      <th>Latitude</th>\n",
       "      <th>Longitude</th>\n",
       "      <th>Temperature</th>\n",
       "      <th>Max Temperature</th>\n",
       "      <th>Humidity</th>\n",
       "      <th>Cloudiness</th>\n",
       "      <th>Wind</th>\n",
       "      <th>Country</th>\n",
       "      <th>Date</th>\n",
       "    </tr>\n",
       "  </thead>\n",
       "  <tbody>\n",
       "    <tr>\n",
       "      <th>0</th>\n",
       "      <td>New Norfolk</td>\n",
       "      <td>-42.7826</td>\n",
       "      <td>147.0587</td>\n",
       "      <td>53.80</td>\n",
       "      <td>54.91</td>\n",
       "      <td>50</td>\n",
       "      <td>100</td>\n",
       "      <td>4.97</td>\n",
       "      <td>AU</td>\n",
       "      <td>1635713599</td>\n",
       "    </tr>\n",
       "    <tr>\n",
       "      <th>1</th>\n",
       "      <td>Guerrero Negro</td>\n",
       "      <td>27.9769</td>\n",
       "      <td>-114.0611</td>\n",
       "      <td>72.52</td>\n",
       "      <td>72.52</td>\n",
       "      <td>57</td>\n",
       "      <td>100</td>\n",
       "      <td>12.50</td>\n",
       "      <td>MX</td>\n",
       "      <td>1635713624</td>\n",
       "    </tr>\n",
       "    <tr>\n",
       "      <th>2</th>\n",
       "      <td>Vaini</td>\n",
       "      <td>-21.2000</td>\n",
       "      <td>-175.2000</td>\n",
       "      <td>78.96</td>\n",
       "      <td>78.96</td>\n",
       "      <td>83</td>\n",
       "      <td>20</td>\n",
       "      <td>10.36</td>\n",
       "      <td>TO</td>\n",
       "      <td>1635713625</td>\n",
       "    </tr>\n",
       "    <tr>\n",
       "      <th>3</th>\n",
       "      <td>Biak</td>\n",
       "      <td>-0.9131</td>\n",
       "      <td>122.8766</td>\n",
       "      <td>75.94</td>\n",
       "      <td>75.94</td>\n",
       "      <td>81</td>\n",
       "      <td>84</td>\n",
       "      <td>0.65</td>\n",
       "      <td>ID</td>\n",
       "      <td>1635713625</td>\n",
       "    </tr>\n",
       "    <tr>\n",
       "      <th>4</th>\n",
       "      <td>Hobart</td>\n",
       "      <td>-42.8794</td>\n",
       "      <td>147.3294</td>\n",
       "      <td>54.54</td>\n",
       "      <td>55.26</td>\n",
       "      <td>67</td>\n",
       "      <td>75</td>\n",
       "      <td>5.01</td>\n",
       "      <td>AU</td>\n",
       "      <td>1635713418</td>\n",
       "    </tr>\n",
       "  </tbody>\n",
       "</table>\n",
       "</div>"
      ],
      "text/plain": [
       "             City  Latitude  Longitude  Temperature  Max Temperature  \\\n",
       "0     New Norfolk  -42.7826   147.0587        53.80            54.91   \n",
       "1  Guerrero Negro   27.9769  -114.0611        72.52            72.52   \n",
       "2           Vaini  -21.2000  -175.2000        78.96            78.96   \n",
       "3            Biak   -0.9131   122.8766        75.94            75.94   \n",
       "4          Hobart  -42.8794   147.3294        54.54            55.26   \n",
       "\n",
       "   Humidity  Cloudiness   Wind Country        Date  \n",
       "0        50         100   4.97      AU  1635713599  \n",
       "1        57         100  12.50      MX  1635713624  \n",
       "2        83          20  10.36      TO  1635713625  \n",
       "3        81          84   0.65      ID  1635713625  \n",
       "4        67          75   5.01      AU  1635713418  "
      ]
     },
     "execution_count": 4,
     "metadata": {},
     "output_type": "execute_result"
    }
   ],
   "source": [
    "# load weather.py csv\n",
    "data = pd.read_csv(\"city_weather_data.csv\")\n",
    "\n",
    "data.head()"
   ]
  },
  {
   "cell_type": "code",
   "execution_count": 5,
   "id": "d038405d",
   "metadata": {},
   "outputs": [
    {
     "data": {
      "application/vnd.jupyter.widget-view+json": {
       "model_id": "51860d1f47044702b4b2a904c8be3679",
       "version_major": 2,
       "version_minor": 0
      },
      "text/plain": [
       "Figure(layout=FigureLayout(height='600px', width='550px'))"
      ]
     },
     "metadata": {},
     "output_type": "display_data"
    }
   ],
   "source": [
    "### Humidity Heatmap\n",
    "\n",
    "humidity = data[\"Humidity\"]\n",
    "locations = data[[\"Latitude\",\"Longitude\"]]\n",
    "\n",
    "gmaps.configure(api_key = g_key)\n",
    "maps = gmaps.figure(center=(0,0), zoom_level=1, layout={'width': '550px','height': '600px'})\n",
    "heat_layer = gmaps.heatmap_layer(locations, weights=humidity, max_intensity = 300, point_radius = 5, dissipating =False)\n",
    "maps.add_layer(heat_layer)\n",
    "maps"
   ]
  },
  {
   "cell_type": "code",
   "execution_count": null,
   "id": "4993209e",
   "metadata": {},
   "outputs": [],
   "source": []
  }
 ],
 "metadata": {
  "kernelspec": {
   "display_name": "Python 3",
   "language": "python",
   "name": "python3"
  },
  "language_info": {
   "codemirror_mode": {
    "name": "ipython",
    "version": 3
   },
   "file_extension": ".py",
   "mimetype": "text/x-python",
   "name": "python",
   "nbconvert_exporter": "python",
   "pygments_lexer": "ipython3",
   "version": "3.8.8"
  }
 },
 "nbformat": 4,
 "nbformat_minor": 5
}
